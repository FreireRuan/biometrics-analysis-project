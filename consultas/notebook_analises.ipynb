{
 "cells": [
  {
   "cell_type": "markdown",
   "metadata": {
    "application/vnd.databricks.v1+cell": {
     "cellMetadata": {},
     "inputWidgets": {},
     "nuid": "577dc36c-c451-4a32-928a-baf92b591658",
     "showTitle": false,
     "tableResultSettingsMap": {},
     "title": ""
    }
   },
   "source": [
    "**Qual dos serviços mais falha? (status = PROVIDER_FAILED)**"
   ]
  },
  {
   "cell_type": "code",
   "execution_count": 0,
   "metadata": {
    "application/vnd.databricks.v1+cell": {
     "cellMetadata": {
      "byteLimit": 2048000,
      "rowLimit": 10000
     },
     "inputWidgets": {},
     "nuid": "91b9e709-3b54-4060-b099-0cccf1ac3f43",
     "showTitle": false,
     "tableResultSettingsMap": {},
     "title": ""
    }
   },
   "outputs": [],
   "source": [
    "with\n",
    "\n",
    "  base as (\n",
    "    select\n",
    "      bt.provedor,\n",
    "      count(*) filter(where bt.status = 'falha no provedor') qtd_execucoes_falhadas,\n",
    "      count(*) qtd_execucoes\n",
    "    from\n",
    "      hive_metastore.gold.fato_biometria_tentativas bt\n",
    "    group by\n",
    "      1\n",
    "  ),\n",
    "\n",
    "  interv_confianca as (\n",
    "    select\n",
    "      b.provedor,\n",
    "      b.qtd_execucoes_falhadas,\n",
    "      b.qtd_execucoes,\n",
    "      round(\n",
    "        (b.qtd_execucoes_falhadas / b.qtd_execucoes),\n",
    "        2\n",
    "      ) tx_falha,\n",
    "      qtd_execucoes_falhadas * 1.0 / qtd_execucoes p_hat,\n",
    "      sqrt(\n",
    "        (qtd_execucoes_falhadas * 1.0 / qtd_execucoes)\n",
    "        * (1 - qtd_execucoes_falhadas * 1.0 / qtd_execucoes)\n",
    "        / qtd_execucoes\n",
    "      ) se\n",
    "    from\n",
    "      base b\n",
    "  )\n",
    "\n",
    "select\n",
    "  ic.provedor,\n",
    "  ic.qtd_execucoes_falhadas,\n",
    "  ic.qtd_execucoes,\n",
    "  round(\n",
    "    p_hat - 1.96 * se,\n",
    "    2\n",
    "  ) AS ic_inferior,\n",
    "  ic.tx_falha,\n",
    "  round(\n",
    "    p_hat + 1.96 * se,\n",
    "    2\n",
    "  ) AS ic_superior\n",
    "from\n",
    "  interv_confianca ic\n",
    "order by\n",
    "  1 asc"
   ]
  },
  {
   "cell_type": "markdown",
   "metadata": {
    "application/vnd.databricks.v1+cell": {
     "cellMetadata": {},
     "inputWidgets": {},
     "nuid": "0b595338-56c6-4803-a1f3-ddbf566ca1bf",
     "showTitle": false,
     "tableResultSettingsMap": {},
     "title": ""
    }
   },
   "source": [
    "**Qual categoria de entregador possui o maior índice falha na identificação biométrica? (status =\n",
    "NOT_MATCH)**"
   ]
  },
  {
   "cell_type": "code",
   "execution_count": 0,
   "metadata": {
    "application/vnd.databricks.v1+cell": {
     "cellMetadata": {
      "byteLimit": 2048000,
      "rowLimit": 10000
     },
     "inputWidgets": {},
     "nuid": "19cc6e2b-420f-410f-a0bb-96868d38779a",
     "showTitle": false,
     "tableResultSettingsMap": {},
     "title": ""
    }
   },
   "outputs": [],
   "source": [
    "select\n",
    "  b.status,\n",
    "  m.nvl_categoria,\n",
    "  count(*) qtd_execucoes_nao_combinam\n",
    "from\n",
    "  hive_metastore.gold.fato_biometria_tentativas bt\n",
    "  left join\n",
    "    hive_metastore.gold.dim_biometria b\n",
    "    on\n",
    "      bt.id_sessao = b.id_sessao\n",
    "  left join\n",
    "    hive_metastore.gold.dim_motoristas m\n",
    "    on\n",
    "      b.id_motorista = m.id_motorista\n",
    "where\n",
    "  b.status = 'nao combina'\n",
    "group by\n",
    "  1, 2\n",
    "order by\n",
    "  2"
   ]
  },
  {
   "cell_type": "markdown",
   "metadata": {
    "application/vnd.databricks.v1+cell": {
     "cellMetadata": {},
     "inputWidgets": {},
     "nuid": "1a0d0fbf-a85e-4cc3-81bd-514c9c939dfc",
     "showTitle": false,
     "tableResultSettingsMap": {},
     "title": ""
    }
   },
   "source": [
    "**Calcule quanto o índice geral de MATCH seria se aumentássemos a similaridade mínima do\n",
    "MATCH para 0.90**"
   ]
  },
  {
   "cell_type": "code",
   "execution_count": 0,
   "metadata": {
    "application/vnd.databricks.v1+cell": {
     "cellMetadata": {
      "byteLimit": 2048000,
      "rowLimit": 10000
     },
     "inputWidgets": {},
     "nuid": "91ae8d4a-6c48-455c-a1b9-d988560c7641",
     "showTitle": false,
     "tableResultSettingsMap": {},
     "title": ""
    }
   },
   "outputs": [],
   "source": [
    "with \n",
    "\n",
    "  base as (\n",
    "    select\n",
    "      count(*) filter(where bt.status = 'combina') qtd_atual_combina,\n",
    "      sum(bt.flg_similaridade_maior_90_percent) filter(where bt.flg_similaridade_maior_90_percent = 1) qtd_threshold_ajustada,\n",
    "      count(*) qtd_total\n",
    "    from\n",
    "      hive_metastore.gold.fato_biometria_tentativas bt\n",
    "  ),\n",
    "\n",
    "  base_fim as (\n",
    "    select\n",
    "      b.*,\n",
    "      round(\n",
    "        (b.qtd_atual_combina * 1.0 / b.qtd_total),\n",
    "        2\n",
    "      ) qtd_atual_combina_tx,\n",
    "      round(\n",
    "        (b.qtd_threshold_ajustada * 1.0 / b.qtd_total),\n",
    "        2\n",
    "      ) qtd_threshold_ajustada_tx,\n",
    "      round(\n",
    "        (1-((qtd_threshold_ajustada / qtd_atual_combina) * 1.0)),\n",
    "        2\n",
    "      ) tx_reducao_atual,\n",
    "      round(\n",
    "        ((b.qtd_atual_combina - b.qtd_threshold_ajustada) * 1.0 / b.qtd_total),\n",
    "        2\n",
    "      ) tx_reducao_absoluta\n",
    "    from\n",
    "      base b \n",
    "  )\n",
    "\n",
    "select\n",
    "  bf.*\n",
    "from\n",
    "  base_fim bf\n"
   ]
  },
  {
   "cell_type": "markdown",
   "metadata": {
    "application/vnd.databricks.v1+cell": {
     "cellMetadata": {},
     "inputWidgets": {},
     "nuid": "c337e8c2-8f5e-4a5e-8fc6-7d26aed1e6ce",
     "showTitle": false,
     "tableResultSettingsMap": {},
     "title": ""
    }
   },
   "source": [
    "**Você diria que há alguma relação entre volume de pedidos cancelados (status = CANCELLED) de\n",
    "um entregador e o status final do processo de identificação biométrica dele? Justifique sua\n",
    "resposta.**"
   ]
  },
  {
   "cell_type": "code",
   "execution_count": 0,
   "metadata": {
    "application/vnd.databricks.v1+cell": {
     "cellMetadata": {
      "byteLimit": 2048000,
      "rowLimit": 10000
     },
     "inputWidgets": {},
     "nuid": "038c3502-0f4a-42e4-afa6-997dc6568872",
     "showTitle": false,
     "tableResultSettingsMap": {},
     "title": ""
    }
   },
   "outputs": [],
   "source": [
    "with \n",
    "\n",
    "  pedido_cancelado as (\n",
    "    select\n",
    "      os.id_motorista,\n",
    "      count(*) filter (where os.status_ordem = 'cancelado') qtd_cancelado\n",
    "    from\n",
    "      hive_metastore.gold.fato_ordens_servico os\n",
    "    group by\n",
    "      1\n",
    "  )\n",
    "\n",
    "select\n",
    "  b.status,\n",
    "  round(\n",
    "    avg(pc.qtd_cancelado),\n",
    "    2\n",
    "  ) media\n",
    "from\n",
    "  hive_metastore.gold.dim_biometria b\n",
    "  left join\n",
    "    pedido_cancelado pc\n",
    "    on\n",
    "      pc.id_motorista = b.id_motorista\n",
    "where\n",
    "  status in (\"combina\", \"nao combina\")\n",
    "group by\n",
    "  1"
   ]
  },
  {
   "cell_type": "markdown",
   "metadata": {
    "application/vnd.databricks.v1+cell": {
     "cellMetadata": {},
     "inputWidgets": {},
     "nuid": "396a059f-5bab-4586-bfd3-9121cd66d416",
     "showTitle": false,
     "tableResultSettingsMap": {},
     "title": ""
    }
   },
   "source": [
    "**Em quais dias provavelmente tivemos um aumento do comportamento indevido “empréstimo de\n",
    "conta”?**"
   ]
  },
  {
   "cell_type": "code",
   "execution_count": 0,
   "metadata": {
    "application/vnd.databricks.v1+cell": {
     "cellMetadata": {
      "byteLimit": 2048000,
      "rowLimit": 10000
     },
     "inputWidgets": {},
     "nuid": "b843611b-ff0a-4aa8-92d4-d392c7022ba3",
     "showTitle": false,
     "tableResultSettingsMap": {},
     "title": ""
    }
   },
   "outputs": [],
   "source": [
    "select\n",
    "  date(date_trunc('day', dt_evento)) dt,\n",
    "  count(*) filter(where status = 'nao combina') qtd_nao_combina\n",
    "from\n",
    "  hive_metastore.gold.fato_biometria_tentativas\n",
    "group by\n",
    "  1\n",
    "order by\n",
    "  1 asc"
   ]
  }
 ],
 "metadata": {
  "application/vnd.databricks.v1+notebook": {
   "computePreferences": null,
   "dashboards": [],
   "environmentMetadata": {
    "base_environment": "",
    "environment_version": "2"
   },
   "inputWidgetPreferences": null,
   "language": "sql",
   "notebookMetadata": {
    "pythonIndentUnit": 4
   },
   "notebookName": "notebook_analises",
   "widgets": {}
  },
  "language_info": {
   "name": "sql"
  }
 },
 "nbformat": 4,
 "nbformat_minor": 0
}
