{
 "cells": [
  {
   "cell_type": "markdown",
   "metadata": {
    "application/vnd.databricks.v1+cell": {
     "cellMetadata": {
      "byteLimit": 2048000,
      "rowLimit": 10000
     },
     "inputWidgets": {},
     "nuid": "2372dbff-8d18-45ed-a72a-b2eadecf042a",
     "showTitle": false,
     "tableResultSettingsMap": {},
     "title": ""
    }
   },
   "source": [
    "\n",
    "# **GOLD PREVENÇÃO**\n"
   ]
  },
  {
   "cell_type": "markdown",
   "metadata": {
    "application/vnd.databricks.v1+cell": {
     "cellMetadata": {
      "byteLimit": 2048000,
      "rowLimit": 10000
     },
     "inputWidgets": {},
     "nuid": "d446e1dc-1e7e-4ea8-ae5a-9fe910660fb8",
     "showTitle": false,
     "tableResultSettingsMap": {},
     "title": ""
    }
   },
   "source": [
    "## ONE BIG TABLE RELATORIO PREVENCAO"
   ]
  },
  {
   "cell_type": "code",
   "execution_count": 0,
   "metadata": {
    "application/vnd.databricks.v1+cell": {
     "cellMetadata": {
      "byteLimit": 2048000,
      "implicitDf": true,
      "rowLimit": 10000
     },
     "inputWidgets": {},
     "nuid": "c3470879-0cf9-45c4-9e60-219d2c5ee848",
     "showTitle": false,
     "tableResultSettingsMap": {},
     "title": ""
    }
   },
   "outputs": [],
   "source": [
    "%sql\n",
    "drop table if exists gold.relatorio_prevencao;\n",
    "drop table if exists gold.one_big_table_report_prevencao;\n",
    "create table if not exists gold.one_big_table_report_prevencao as (\n",
    "  select\n",
    "    os.dt_ordem,\n",
    "    os.id_ordem,\n",
    "    os.id_motorista,\n",
    "    os.vlr_ordem,\n",
    "    os.status_ordem,\n",
    "\n",
    "    m.categoria,\n",
    "    m.modal,\n",
    "    m.dt_registro   as dt_registro_motorista,\n",
    "    m.id_device,\n",
    "\n",
    "    b.id_sessao,\n",
    "    b.dt_evento     as dt_biometria,\n",
    "    b.status        as status_biometria,\n",
    "    b.acao,\n",
    "    b.flg_necessario_acao,\n",
    "\n",
    "    bt.dt_evento    as dt_tentativa,\n",
    "    bt.percent_similaridade,\n",
    "    bt.status       as status_tentativa,\n",
    "    bt.provedor\n",
    "  from gold.fato_ordens_servico os\n",
    "  left join gold.dim_motoristas m\n",
    "    on os.id_motorista = m.id_motorista\n",
    "  left join gold.dim_biometria b\n",
    "    on os.id_motorista = b.id_motorista\n",
    "  left join gold.fato_biometria_tentativas bt\n",
    "    on b.id_sessao = bt.id_sessao\n",
    ")"
   ]
  },
  {
   "cell_type": "markdown",
   "metadata": {
    "application/vnd.databricks.v1+cell": {
     "cellMetadata": {
      "byteLimit": 2048000,
      "rowLimit": 10000
     },
     "inputWidgets": {},
     "nuid": "d8a597fc-4b1f-4db8-b94d-4479e8553ba6",
     "showTitle": false,
     "tableResultSettingsMap": {},
     "title": ""
    }
   },
   "source": [
    "## DIMENSÃO MOTORISTAS"
   ]
  },
  {
   "cell_type": "code",
   "execution_count": 0,
   "metadata": {
    "application/vnd.databricks.v1+cell": {
     "cellMetadata": {
      "byteLimit": 2048000,
      "rowLimit": 10000
     },
     "inputWidgets": {},
     "nuid": "7746225e-3f5b-4775-aa4d-8c7eda754e02",
     "showTitle": false,
     "tableResultSettingsMap": {},
     "title": ""
    }
   },
   "outputs": [],
   "source": [
    "drop table if exists gold.dim_motoristas;\n",
    "create table if not exists gold.dim_motoristas as (\n",
    "  select\n",
    "    m.id_motorista,\n",
    "    m.categoria,\n",
    "    m.modal,\n",
    "    m.dt_registro,\n",
    "    m.id_device\n",
    "  from\n",
    "    silver.motoristas m\n",
    ")"
   ]
  },
  {
   "cell_type": "markdown",
   "metadata": {
    "application/vnd.databricks.v1+cell": {
     "cellMetadata": {
      "byteLimit": 2048000,
      "rowLimit": 10000
     },
     "inputWidgets": {},
     "nuid": "3d6b9311-65b6-4907-bbbe-4e5427edfe62",
     "showTitle": false,
     "tableResultSettingsMap": {},
     "title": ""
    }
   },
   "source": [
    "## DIMENSÃO BIOMETRIA"
   ]
  },
  {
   "cell_type": "code",
   "execution_count": 0,
   "metadata": {
    "application/vnd.databricks.v1+cell": {
     "cellMetadata": {
      "byteLimit": 2048000,
      "rowLimit": 10000
     },
     "inputWidgets": {},
     "nuid": "071ad44f-65cd-4026-ac07-c85a3f62873d",
     "showTitle": false,
     "tableResultSettingsMap": {},
     "title": ""
    }
   },
   "outputs": [],
   "source": [
    "\n",
    "drop table if exists gold.dim_biometria;\n",
    "create table if not exists gold.dim_biometria as (\n",
    "  select\n",
    "    b.id_sessao,\n",
    "    b.dt_evento,\n",
    "    b.status,\n",
    "    b.id_motorista,\n",
    "    b.acao,\n",
    "    b.flg_necessario_acao\n",
    "  from\n",
    "    silver.biometria b\n",
    ");"
   ]
  },
  {
   "cell_type": "markdown",
   "metadata": {
    "application/vnd.databricks.v1+cell": {
     "cellMetadata": {
      "byteLimit": 2048000,
      "rowLimit": 10000
     },
     "inputWidgets": {},
     "nuid": "128bc8d2-0a16-4246-8144-beee5ada4fb7",
     "showTitle": false,
     "tableResultSettingsMap": {},
     "title": ""
    }
   },
   "source": [
    "## FATO BIOMETRIA TENTATIVAS"
   ]
  },
  {
   "cell_type": "code",
   "execution_count": 0,
   "metadata": {
    "application/vnd.databricks.v1+cell": {
     "cellMetadata": {
      "byteLimit": 2048000,
      "rowLimit": 10000
     },
     "inputWidgets": {},
     "nuid": "8106fb4e-9acf-457a-85f0-6cd2307b1832",
     "showTitle": false,
     "tableResultSettingsMap": {},
     "title": ""
    }
   },
   "outputs": [],
   "source": [
    "drop table if exists gold.fato_biometria_tentativas;\n",
    "create table if not exists gold.fato_biometria_tentativas as (\n",
    "  select \n",
    "    bt.dt_evento,\n",
    "    bt.id_sessao,\n",
    "    bt.percent_similaridade,\n",
    "    bt.status,\n",
    "    bt.provedor\n",
    "  from \n",
    "    silver.biometria_tentativas bt\n",
    ")"
   ]
  },
  {
   "cell_type": "markdown",
   "metadata": {
    "application/vnd.databricks.v1+cell": {
     "cellMetadata": {
      "byteLimit": 2048000,
      "rowLimit": 10000
     },
     "inputWidgets": {},
     "nuid": "0de759e4-d61e-4958-94df-3f190c43a857",
     "showTitle": false,
     "tableResultSettingsMap": {},
     "title": ""
    }
   },
   "source": [
    "## FATO ORDENS DE SERVIÇOS"
   ]
  },
  {
   "cell_type": "code",
   "execution_count": 0,
   "metadata": {
    "application/vnd.databricks.v1+cell": {
     "cellMetadata": {
      "byteLimit": 2048000,
      "rowLimit": 10000
     },
     "inputWidgets": {},
     "nuid": "5353b490-7b2d-41b2-a9f1-690ef7da2e29",
     "showTitle": false,
     "tableResultSettingsMap": {},
     "title": ""
    }
   },
   "outputs": [],
   "source": [
    "drop table if exists gold.fato_ordens_servico;\n",
    "create table if not exists gold.fato_ordens_servico as (\n",
    "  select\n",
    "    os.dt_ordem,\n",
    "    os.id_ordem,\n",
    "    os.id_motorista,\n",
    "    os.vlr_ordem,\n",
    "    os.status_ordem\n",
    "  from\n",
    "    silver.ordens_servico os\n",
    ")"
   ]
  }
 ],
 "metadata": {
  "application/vnd.databricks.v1+notebook": {
   "computePreferences": null,
   "dashboards": [],
   "environmentMetadata": {
    "base_environment": "",
    "environment_version": "2"
   },
   "inputWidgetPreferences": null,
   "language": "sql",
   "notebookMetadata": {
    "mostRecentlyExecutedCommandWithImplicitDF": {
     "commandId": -1,
     "dataframes": [
      "_sqldf"
     ]
    },
    "pythonIndentUnit": 4
   },
   "notebookName": "gold_prevencao",
   "widgets": {}
  },
  "language_info": {
   "name": "sql"
  }
 },
 "nbformat": 4,
 "nbformat_minor": 0
}
