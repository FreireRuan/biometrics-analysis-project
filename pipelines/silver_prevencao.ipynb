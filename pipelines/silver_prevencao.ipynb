{
 "cells": [
  {
   "cell_type": "markdown",
   "metadata": {
    "application/vnd.databricks.v1+cell": {
     "cellMetadata": {
      "byteLimit": 2048000,
      "rowLimit": 10000
     },
     "inputWidgets": {},
     "nuid": "742a70c0-e58a-41ec-9a8f-08a8de2c0a22",
     "showTitle": false,
     "tableResultSettingsMap": {},
     "title": ""
    }
   },
   "source": [
    "# **SILVER PREVENÇÃO** "
   ]
  },
  {
   "cell_type": "markdown",
   "metadata": {
    "application/vnd.databricks.v1+cell": {
     "cellMetadata": {
      "byteLimit": 2048000,
      "rowLimit": 10000
     },
     "inputWidgets": {},
     "nuid": "859a1142-fc4c-4a10-b7db-3dabd871b793",
     "showTitle": false,
     "tableResultSettingsMap": {},
     "title": ""
    }
   },
   "source": [
    "## CONFIGURAÇÃO DO PIPELINE"
   ]
  },
  {
   "cell_type": "code",
   "execution_count": 0,
   "metadata": {
    "application/vnd.databricks.v1+cell": {
     "cellMetadata": {
      "byteLimit": 2048000,
      "implicitDf": true,
      "rowLimit": 10000
     },
     "inputWidgets": {},
     "nuid": "cc936019-4378-44ac-afe8-ac85ca514ade",
     "showTitle": false,
     "tableResultSettingsMap": {},
     "title": ""
    }
   },
   "outputs": [],
   "source": [
    "%sql\n",
    "\n",
    "use catalog hive_metastore;\n",
    "use schema silver;"
   ]
  },
  {
   "cell_type": "markdown",
   "metadata": {
    "application/vnd.databricks.v1+cell": {
     "cellMetadata": {
      "byteLimit": 2048000,
      "rowLimit": 10000
     },
     "inputWidgets": {},
     "nuid": "bb24a073-fb66-4274-b198-1e640d1d83d6",
     "showTitle": false,
     "tableResultSettingsMap": {},
     "title": ""
    }
   },
   "source": [
    "## BIOMETRY"
   ]
  },
  {
   "cell_type": "code",
   "execution_count": 0,
   "metadata": {
    "application/vnd.databricks.v1+cell": {
     "cellMetadata": {
      "byteLimit": 2048000,
      "implicitDf": true,
      "rowLimit": 10000
     },
     "inputWidgets": {},
     "nuid": "0a4a9c23-6041-481f-b6cb-f74b5070713f",
     "showTitle": false,
     "tableResultSettingsMap": {},
     "title": ""
    }
   },
   "outputs": [],
   "source": [
    "%sql\n",
    "\n",
    "drop table if exists silver.biometria;\n",
    "create table if not exists silver.biometria as (\n",
    "  with \n",
    "\n",
    "    base as (\n",
    "      select\n",
    "        cast(b.session_id as int)   id_sessao,\n",
    "        cast(b.event_dt as date)    dt_evento,\n",
    "        lower(trim(b.status))       status_orig,\n",
    "        cast(b.driver_id as int)    id_motorista,\n",
    "        lower(trim(b.action))       acao_orig \n",
    "      from\n",
    "        bronze.biometry b\n",
    "    )\n",
    "\n",
    "  select\n",
    "    b.id_sessao,\n",
    "    b.dt_evento,\n",
    "    b.status_orig,\n",
    "    case\n",
    "      when b.status_orig = \"provider_failed\"  then \"falha no provedor\"\n",
    "      when b.status_orig = \"match\"            then \"combina\"\n",
    "      when b.status_orig = \"not_match\"         then \"nao combina\"\n",
    "    end status,\n",
    "    b.id_motorista,\n",
    "    b.acao_orig,\n",
    "    if(\n",
    "      b.acao_orig = \"fluxo_stack\",\n",
    "      \"necessario acao\",\n",
    "      \"sem necessidade de acao\"\n",
    "    ) acao,\n",
    "    if(\n",
    "      b.acao_orig = \"fluxo_stack\",\n",
    "      1,\n",
    "      0\n",
    "    ) flg_necessario_acao\n",
    "  from\n",
    "    base b\n",
    ")"
   ]
  },
  {
   "cell_type": "markdown",
   "metadata": {
    "application/vnd.databricks.v1+cell": {
     "cellMetadata": {
      "byteLimit": 2048000,
      "rowLimit": 10000
     },
     "inputWidgets": {},
     "nuid": "a04ec309-0708-4ae4-beb6-007d09db35b2",
     "showTitle": false,
     "tableResultSettingsMap": {},
     "title": ""
    }
   },
   "source": [
    "## BIOMETRY_EXECUTION"
   ]
  },
  {
   "cell_type": "code",
   "execution_count": 0,
   "metadata": {
    "application/vnd.databricks.v1+cell": {
     "cellMetadata": {
      "byteLimit": 2048000,
      "implicitDf": true,
      "rowLimit": 10000
     },
     "inputWidgets": {},
     "nuid": "4b39ee28-3eae-44e1-9b9b-5b30384f035d",
     "showTitle": false,
     "tableResultSettingsMap": {},
     "title": ""
    }
   },
   "outputs": [],
   "source": [
    "%sql\n",
    "\n",
    "drop table if exists silver.biometria_tentativas;\n",
    "create table if not exists silver.biometria_tentativas as (\n",
    "  with \n",
    "\n",
    "    base as (\n",
    "      select\n",
    "        cast(be.event_dt as date)      dt_evento,\n",
    "        cast(be.session_id as int)     id_sessao,\n",
    "        cast(be.similarity as double)  percent_similaridade,\n",
    "        lower(trim(be.status))         status_orig,\n",
    "        lower(trim(be.provider))       provedor\n",
    "      from\n",
    "        bronze.biometry_execution be\n",
    "    )\n",
    "\n",
    "  select\n",
    "    b.dt_evento,\n",
    "    b.id_sessao,\n",
    "    b.percent_similaridade,\n",
    "    b.status_orig,\n",
    "    case\n",
    "      when b.status_orig = \"provider_failed\"  then \"falha no provedor\"\n",
    "      when b.status_orig = \"match\"            then \"combina\"\n",
    "      when b.status_orig = \"not_match\"        then \"nao combina\"\n",
    "    end status,\n",
    "    b.provedor\n",
    "  from\n",
    "    base b\n",
    ")"
   ]
  },
  {
   "cell_type": "markdown",
   "metadata": {
    "application/vnd.databricks.v1+cell": {
     "cellMetadata": {
      "byteLimit": 2048000,
      "rowLimit": 10000
     },
     "inputWidgets": {},
     "nuid": "ab185f79-94db-413e-9cf1-9ff208109b38",
     "showTitle": false,
     "tableResultSettingsMap": {},
     "title": ""
    }
   },
   "source": [
    "\n",
    "## DRIVERS"
   ]
  },
  {
   "cell_type": "code",
   "execution_count": 0,
   "metadata": {
    "application/vnd.databricks.v1+cell": {
     "cellMetadata": {
      "byteLimit": 2048000,
      "implicitDf": true,
      "rowLimit": 10000
     },
     "inputWidgets": {},
     "nuid": "445a5a2a-4739-40a4-a4c2-5164e1afd83c",
     "showTitle": false,
     "tableResultSettingsMap": {},
     "title": ""
    }
   },
   "outputs": [],
   "source": [
    "%sql\n",
    "\n",
    "drop table if exists silver.motoristas;\n",
    "create table if not exists silver.motoristas as (\n",
    "select\n",
    "  lower(trim(d.driver_id))    id_motorista,\n",
    "  lower(trim(d.category))     categoria,\n",
    "  lower(trim(d.modal))        modal,\n",
    "  cast(d.register_dt as date) dt_registro,\n",
    "  d.device_id                 id_device\n",
    "from\n",
    "  bronze.drivers d\n",
    ")"
   ]
  },
  {
   "cell_type": "markdown",
   "metadata": {
    "application/vnd.databricks.v1+cell": {
     "cellMetadata": {
      "byteLimit": 2048000,
      "rowLimit": 10000
     },
     "inputWidgets": {},
     "nuid": "cda7288d-dd98-42fb-bba4-db56135bfa0a",
     "showTitle": false,
     "tableResultSettingsMap": {},
     "title": ""
    }
   },
   "source": [
    "## ORDERS"
   ]
  },
  {
   "cell_type": "code",
   "execution_count": 0,
   "metadata": {
    "application/vnd.databricks.v1+cell": {
     "cellMetadata": {
      "byteLimit": 2048000,
      "implicitDf": true,
      "rowLimit": 10000
     },
     "inputWidgets": {},
     "nuid": "cbc54ae8-7cf9-4aa2-a6b1-9359b1be2342",
     "showTitle": false,
     "tableResultSettingsMap": {},
     "title": ""
    }
   },
   "outputs": [],
   "source": [
    "%sql\n",
    "\n",
    "drop table if exists silver.ordens_servico;\n",
    "create table if not exists silver.ordens_servico as (\n",
    "with \n",
    "\n",
    "  base as (\n",
    "    select\n",
    "      cast(o.order_dt as date)        dt_ordem,\n",
    "      cast(o.order_id as bigint)      id_ordem,\n",
    "      cast(o.driver_id as int)        id_motorista,\n",
    "      cast(o.order_value as double)   vlr_ordem,\n",
    "      lower(trim(o.order_status))     status_ordem_orig\n",
    "    from\n",
    "      bronze.orders o\n",
    "  )\n",
    "\n",
    "select\n",
    "  b.dt_ordem,\n",
    "  b.id_ordem,\n",
    "  b.id_motorista,\n",
    "  b.vlr_ordem,\n",
    "  b.status_ordem_orig,\n",
    "  case\n",
    "    when b.status_ordem_orig = \"#n/d\"      then \"nao conhecido\"\n",
    "    when b.status_ordem_orig = \"cancelled\" then \"cancelado\"\n",
    "    when b.status_ordem_orig = \"concluded\" then \"concluido\"\n",
    "  end status_ordem\n",
    "from\n",
    "  base b\n",
    ")"
   ]
  }
 ],
 "metadata": {
  "application/vnd.databricks.v1+notebook": {
   "computePreferences": null,
   "dashboards": [],
   "environmentMetadata": {
    "base_environment": "",
    "environment_version": "2"
   },
   "inputWidgetPreferences": null,
   "language": "sql",
   "notebookMetadata": {
    "mostRecentlyExecutedCommandWithImplicitDF": {
     "commandId": -1,
     "dataframes": [
      "_sqldf"
     ]
    },
    "pythonIndentUnit": 4
   },
   "notebookName": "silver_prevencao",
   "widgets": {}
  },
  "language_info": {
   "name": "sql"
  }
 },
 "nbformat": 4,
 "nbformat_minor": 0
}
